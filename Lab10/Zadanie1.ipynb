{
  "nbformat": 4,
  "nbformat_minor": 0,
  "metadata": {
    "colab": {
      "name": "Zadanie1.ipynb",
      "provenance": [],
      "collapsed_sections": []
    },
    "kernelspec": {
      "name": "python3",
      "display_name": "Python 3"
    }
  },
  "cells": [
    {
      "cell_type": "markdown",
      "metadata": {
        "id": "2nsakKX_KvT2"
      },
      "source": [
        "**Metoda Prostokątów:**"
      ]
    },
    {
      "cell_type": "code",
      "metadata": {
        "colab": {
          "base_uri": "https://localhost:8080/"
        },
        "id": "VHzVm-DDJ7J1",
        "outputId": "f91a91c5-24f1-484a-a292-43d8547b2581"
      },
      "source": [
        "def integrate(function, a, b, i):\r\n",
        "    dx = (b - a) / i\r\n",
        "    integr = 0\r\n",
        "    for x in range(i):\r\n",
        "        x = x * dx + a\r\n",
        "        integr += dx * eval(function)\r\n",
        "    return integr\r\n",
        "\r\n",
        "\r\n",
        "function = input(\"Funkcja: \")\r\n",
        "a = float(input(\"Początek przedziału: \"))\r\n",
        "b = float(input(\"Koniec przedziału: \"))\r\n",
        "i = int(input(\"Liczba podprzedziałów: \"))\r\n",
        "print(\"Całka z funkcji {funkcjon} po przedziale od {a} do {b} = {integrate}\".format(funkcjon = function, a = a, b = b, integrate = integrate(function, a, b, i)))"
      ],
      "execution_count": 3,
      "outputs": [
        {
          "output_type": "stream",
          "text": [
            "Funkcja: x*x+3\n",
            "Początek przedziału: 2\n",
            "Koniec przedziału: 1\n",
            "Liczba podprzedziałów: 5\n",
            "Całka z funkcji x*x+3 po przedziale od 2.0 do 1.0 = -5.640000000000001\n"
          ],
          "name": "stdout"
        }
      ]
    },
    {
      "cell_type": "markdown",
      "metadata": {
        "id": "Z9MEV5unKr0Y"
      },
      "source": [
        "**Metoda Trapezów**"
      ]
    },
    {
      "cell_type": "code",
      "metadata": {
        "colab": {
          "base_uri": "https://localhost:8080/"
        },
        "id": "41zWMUV4KLgx",
        "outputId": "be4ff719-76e7-49d0-de3e-5906195fb1f7"
      },
      "source": [
        "def integrate(function, a, b, i):\r\n",
        "    dx = (b - a) / i\r\n",
        "    integr = 0\r\n",
        "    for x in range(i):\r\n",
        "        x = x * dx + a\r\n",
        "        fx1 = eval(function)\r\n",
        "        x += dx\r\n",
        "        fx2 = eval(function)\r\n",
        "        integr += 0.5 * dx * (fx1 + fx2)\r\n",
        "    return integr\r\n",
        "\r\n",
        "function = input(\"Funkcja: \")\r\n",
        "a = float(input(\"Początek przedziału: \"))\r\n",
        "b = float(input(\"Koniec przedziału: \"))\r\n",
        "i = int(input(\"Liczba podprzedziałów: \"))\r\n",
        "print(\"Całka z funkcji {funkcjon} po przedziale od {a} do {b} = {integrate}\".format(funkcjon = function, a = a, b = b, integrate = integrate(function, a, b, i)))"
      ],
      "execution_count": 4,
      "outputs": [
        {
          "output_type": "stream",
          "text": [
            "Funkcja: x*x+2\n",
            "Początek przedziału: 3\n",
            "Koniec przedziału: 1\n",
            "Liczba podprzedziałów: 4\n",
            "Całka z funkcji x*x+2 po przedziale od 3.0 do 1.0 = -12.75\n"
          ],
          "name": "stdout"
        }
      ]
    },
    {
      "cell_type": "markdown",
      "metadata": {
        "id": "j2GXoePhKoGy"
      },
      "source": [
        "**Metoda Simpsona:**"
      ]
    },
    {
      "cell_type": "code",
      "metadata": {
        "colab": {
          "base_uri": "https://localhost:8080/"
        },
        "id": "JkRbE6KZJ7u9",
        "outputId": "e8b8b93e-bd63-4110-cc9d-d000f2351c30"
      },
      "source": [
        "def integrate(function, a, b, n):\r\n",
        "  delta_x = (b-a)/n\r\n",
        "  integr = 0  \r\n",
        "  for i in range(0, n, 2):\r\n",
        "    x = a + delta_x * 2 * i\r\n",
        "    integr += delta_x * (function(x) + 4 * function(x + delta_x) + function(x + 2 * delta_x)) / 3\r\n",
        "  return integr\r\n",
        "\r\n",
        "a = float(input(\"Początek przedziału: \"))\r\n",
        "b = float(input(\"Koniec przedziału: \"))\r\n",
        "n = int(input(\"Liczba podprzedziałów: \"))\r\n",
        "print(\"Całka z funkcji x*x po przedziale od {a} do {b} = {integrate}\".format(a = a, b = b, integrate = integrate(lambda x: x*x, a, b, n)))"
      ],
      "execution_count": 5,
      "outputs": [
        {
          "output_type": "stream",
          "text": [
            "Początek przedziału: 4\n",
            "Koniec przedziału: 7\n",
            "Liczba podprzedziałów: 3\n",
            "Całka z funkcji x*x po przedziale od 4.0 do 7.0 = 213.33333333333331\n"
          ],
          "name": "stdout"
        }
      ]
    },
    {
      "cell_type": "markdown",
      "metadata": {
        "id": "RFHKD6NVKpDd"
      },
      "source": [
        ""
      ]
    }
  ]
}